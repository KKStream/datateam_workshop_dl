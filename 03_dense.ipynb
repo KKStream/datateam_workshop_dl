{
 "cells": [
  {
   "cell_type": "code",
   "execution_count": null,
   "metadata": {},
   "outputs": [],
   "source": [
    "import numpy as np\n",
    "import matplotlib\n",
    "import matplotlib.image as mpimg\n",
    "import matplotlib.pyplot as plt\n",
    "import util\n",
    "\n",
    "from keras.models import Sequential\n",
    "from keras.layers import Dense\n",
    "\n",
    "%matplotlib inline"
   ]
  },
  {
   "cell_type": "code",
   "execution_count": null,
   "metadata": {},
   "outputs": [],
   "source": [
    "dataset = np.load('./datasets/v0_eigens.npz')\n",
    "\n",
    "train_data_size = dataset['train_eigens'].shape[0]\n",
    "valid_data_size = train_data_size / 5\n",
    "train_data_size = train_data_size - valid_data_size\n",
    "\n",
    "indices = np.arange(train_data_size + valid_data_size)\n",
    "\n",
    "train_data = dataset['train_eigens'][indices[:train_data_size]]\n",
    "valid_data = dataset['train_eigens'][indices[train_data_size:]]\n",
    "\n",
    "train_eigens = train_data[:, :-28]\n",
    "train_labels = train_data[:, -28:]\n",
    "valid_eigens = valid_data[:, :-28]\n",
    "valid_labels = valid_data[:, -28:]\n",
    "issue_eigens = dataset['issue_eigens'][:, :-28]\n",
    "\n",
    "print 'train_eigens.shape = {}'.format(train_eigens.shape)\n",
    "print 'train_labels.shape = {}'.format(train_labels.shape)\n",
    "print 'valid_eigens.shape = {}'.format(valid_eigens.shape)\n",
    "print 'valid_labels.shape = {}'.format(valid_labels.shape)"
   ]
  },
  {
   "cell_type": "code",
   "execution_count": null,
   "metadata": {},
   "outputs": [],
   "source": [
    "def build_model():\n",
    "    \"\"\"\n",
    "    \"\"\"\n",
    "    model = Sequential()\n",
    "\n",
    "    model.add(Dense(64, activation='relu', input_shape=(896,)))\n",
    "    model.add(Dense(28, activation='sigmoid'))\n",
    "    \n",
    "    model.compile(optimizer='adam', loss='binary_crossentropy')\n",
    "    \n",
    "    return model"
   ]
  },
  {
   "cell_type": "code",
   "execution_count": null,
   "metadata": {},
   "outputs": [],
   "source": [
    "model = build_model()\n",
    "\n",
    "model.fit(\n",
    "    x=train_eigens,\n",
    "    y=train_labels,\n",
    "    batch_size=128,\n",
    "    epochs=1,\n",
    "    verbose=2,\n",
    "    validation_data=(valid_eigens, valid_labels),\n",
    "    shuffle=True)"
   ]
  },
  {
   "cell_type": "code",
   "execution_count": null,
   "metadata": {},
   "outputs": [],
   "source": [
    "valid_guesss = model.predict(valid_eigens)\n",
    "\n",
    "auc = util.auc(valid_guesss, valid_labels)\n",
    "\n",
    "print auc"
   ]
  },
  {
   "cell_type": "code",
   "execution_count": null,
   "metadata": {},
   "outputs": [],
   "source": [
    "issue_guesss = model.predict(issue_eigens)\n",
    "\n",
    "util.write_result('dense.csv', issue_guesss)"
   ]
  }
 ],
 "metadata": {
  "kernelspec": {
   "display_name": "Python 2",
   "language": "python",
   "name": "python2"
  },
  "language_info": {
   "codemirror_mode": {
    "name": "ipython",
    "version": 2
   },
   "file_extension": ".py",
   "mimetype": "text/x-python",
   "name": "python",
   "nbconvert_exporter": "python",
   "pygments_lexer": "ipython2",
   "version": "2.7.13"
  }
 },
 "nbformat": 4,
 "nbformat_minor": 2
}
