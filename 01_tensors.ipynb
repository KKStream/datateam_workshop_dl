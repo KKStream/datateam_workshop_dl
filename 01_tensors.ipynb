{
 "cells": [
  {
   "cell_type": "markdown",
   "metadata": {},
   "source": [
    "# Understand Tensors\n",
    "\n",
    "- vector and matrix and dot production.\n",
    "- basic ops.\n",
    "- tensor shapes.\n",
    "- tensor slices.\n",
    "- `shift + enter` to run the selected cell."
   ]
  },
  {
   "cell_type": "code",
   "execution_count": null,
   "metadata": {},
   "outputs": [],
   "source": [
    "import numpy as np\n",
    "import matplotlib\n",
    "import matplotlib.pyplot as plt\n",
    "import matplotlib.image as mpimg\n",
    "\n",
    "\n",
    "%matplotlib inline"
   ]
  },
  {
   "cell_type": "markdown",
   "metadata": {},
   "source": [
    "$\n",
    "\\begin{align}\n",
    "v_a = \\begin{bmatrix} a_0, a_1, a_2 \\end{bmatrix} = \\begin{bmatrix} 1, 2, 3 \\end{bmatrix} \\\\\n",
    "v_b = \\begin{bmatrix} b_0, b_1, b_2 \\end{bmatrix} = \\begin{bmatrix} 2, 2, 2 \\end{bmatrix}\n",
    "\\end{align}\n",
    "$"
   ]
  },
  {
   "cell_type": "code",
   "execution_count": null,
   "metadata": {},
   "outputs": [],
   "source": [
    "vector_a = np.array([1, 2, 3], dtype=np.int)\n",
    "vector_b = np.array([2, 2, 2], dtype=np.int)\n",
    "\n",
    "print 'vector_a: {}'.format(vector_a)\n",
    "print 'vector_b: {}'.format(vector_b)"
   ]
  },
  {
   "cell_type": "markdown",
   "metadata": {},
   "source": [
    "# Elementwise Multiplication\n",
    "\n",
    "$\n",
    "\\begin{align}\n",
    "v_a * v_b &= \\begin{bmatrix}a_0, a_1, a_2\\end{bmatrix} \\times \\begin{bmatrix}b_0, b_1, b_2\\end{bmatrix} \\\\\n",
    "&= \\begin{bmatrix}a_0 \\times b_0, a_1 \\times b_1, a_2 \\times b_2\\end{bmatrix}\n",
    "\\end{align}\n",
    "$"
   ]
  },
  {
   "cell_type": "code",
   "execution_count": null,
   "metadata": {},
   "outputs": [],
   "source": [
    "vector_c = vector_a * vector_b\n",
    "vector_d = np.array([vector_a[0] * vector_b[0], vector_a[1] * vector_b[1], vector_a[2] * vector_b[2]])\n",
    "\n",
    "print 'vector_c: {}'.format(vector_c)\n",
    "print 'vector_d: {}'.format(vector_d)"
   ]
  },
  {
   "cell_type": "markdown",
   "metadata": {},
   "source": [
    "# Dot Product\n",
    "\n",
    "$\n",
    "\\begin{align}\n",
    "v_a \\cdot v_b &= \\begin{bmatrix}a_0, a_1, a_2\\end{bmatrix} \\cdot \\begin{bmatrix}b_0, b_1, b_2\\end{bmatrix} \\\\\n",
    "&= a_0 \\times b_0 + a_1 \\times b_1 + a_2 \\times b_2\n",
    "\\end{align}\n",
    "$"
   ]
  },
  {
   "cell_type": "code",
   "execution_count": null,
   "metadata": {},
   "outputs": [],
   "source": [
    "scalar_e = np.dot(vector_a, vector_b)\n",
    "scalar_f = vector_a[0] * vector_b[0] + vector_a[1] * vector_b[1] + vector_a[2] * vector_b[2]\n",
    "\n",
    "print 'scalar_e: {}'.format(scalar_e)\n",
    "print 'scalar_f: {}'.format(scalar_f)"
   ]
  },
  {
   "cell_type": "markdown",
   "metadata": {},
   "source": [
    "# Scalar and Tensor\n",
    "\n",
    "$\n",
    "\\begin{align}\n",
    "s \\times v_a = \\begin{bmatrix} s \\times a_0, s \\times a_1, s \\times a_2 \\end{bmatrix}\n",
    "\\end{align}\n",
    "$"
   ]
  },
  {
   "cell_type": "code",
   "execution_count": null,
   "metadata": {},
   "outputs": [],
   "source": [
    "vector_e = 10 * vector_a\n",
    "\n",
    "print 'vector_a: {}'.format(vector_a)\n",
    "print 'vector_e: {}'.format(vector_e)"
   ]
  },
  {
   "cell_type": "markdown",
   "metadata": {},
   "source": [
    "$\n",
    "\\begin{align}\n",
    "m_a = \\begin{pmatrix} a_{00} && a_{01} \\\\ a_{10} && a_{11} \\end{pmatrix} = \\begin{pmatrix} 1 && 2 \\\\ 3 && 4 \\end{pmatrix} \\\\\n",
    "m_b = \\begin{pmatrix} b_{00} && b_{01} \\\\ b_{10} && b_{11} \\end{pmatrix} = \\begin{pmatrix} 1 && 3 \\\\ 2 && 4 \\end{pmatrix} \\\\\n",
    "\\end{align}\n",
    "$"
   ]
  },
  {
   "cell_type": "code",
   "execution_count": null,
   "metadata": {},
   "outputs": [],
   "source": [
    "matrix_a = np.array([[1, 2], [3, 4]])\n",
    "matrix_b = np.array([[1, 3], [2, 4]])\n",
    "\n",
    "print matrix_a\n",
    "print '-' * 8\n",
    "print matrix_b"
   ]
  },
  {
   "cell_type": "markdown",
   "metadata": {},
   "source": [
    "# Sum of Matrixes\n",
    "\n",
    "$\n",
    "\\begin{align}\n",
    "m_a + m_b = \\begin{pmatrix} a_{00} && a_{01} \\\\ a_{10} && a_{11} \\end{pmatrix} + \\begin{pmatrix} b_{00} && b_{01} \\\\ b_{10} && b_{11} \\end{pmatrix} = \\begin{pmatrix} a_{00} + b_{00} && a_{01} + b_{01} \\\\ a_{10} + b_{10} && a_{11} + b_{11} \\end{pmatrix}\n",
    "\\end{align}\n",
    "$"
   ]
  },
  {
   "cell_type": "code",
   "execution_count": null,
   "metadata": {},
   "outputs": [],
   "source": [
    "matrix_c = matrix_a + matrix_b\n",
    "matrix_d = np.array([\n",
    "    [matrix_a[0, 0] + matrix_b[0, 0], matrix_a[0, 1] + matrix_b[0, 1]],\n",
    "    [matrix_a[1, 0] + matrix_b[1, 0], matrix_a[1, 1] + matrix_b[1, 1]]])\n",
    "\n",
    "print matrix_c\n",
    "print '-' * 8\n",
    "print matrix_d"
   ]
  },
  {
   "cell_type": "markdown",
   "metadata": {},
   "source": [
    "# Matrix Multiplication\n",
    "\n",
    "$\n",
    "\\begin{align}\n",
    "m_a + m_b = \\begin{pmatrix} a_{00} && a_{01} \\\\ a_{10} && a_{11} \\end{pmatrix} \\begin{pmatrix} b_{00} && b_{01} \\\\ b_{10} && b_{11} \\end{pmatrix} = \\begin{pmatrix} a_{00} \\times b_{00} + a_{01} \\times b_{10} && a_{00} \\times b_{01} + a_{01} \\times b_{11} \\\\ a_{10} \\times b_{00} + a_{11} \\times b_{10} && a_{10} \\times b_{01} + a_{11} \\times b_{11} \\end{pmatrix}\n",
    "\\end{align}\n",
    "$"
   ]
  },
  {
   "cell_type": "code",
   "execution_count": null,
   "metadata": {},
   "outputs": [],
   "source": [
    "matrix_e = np.dot(matrix_a, matrix_b)\n",
    "matrix_f = np.array([\n",
    "    [matrix_a[0, 0] * matrix_b[0, 0] + matrix_a[0, 1] * matrix_b[1, 0],\n",
    "     matrix_a[0, 0] * matrix_b[0, 1] + matrix_a[0, 1] * matrix_b[1, 1]],\n",
    "    [matrix_a[1, 0] * matrix_b[0, 0] + matrix_a[1, 1] * matrix_b[1, 0],\n",
    "     matrix_a[1, 0] * matrix_b[0, 1] + matrix_a[1, 1] * matrix_b[1, 1]]])\n",
    "matrix_g = np.array([\n",
    "    [np.dot(matrix_a[0, :], matrix_b[:, 0]), np.dot(matrix_a[0, :], matrix_b[:, 1])],\n",
    "    [np.dot(matrix_a[1, :], matrix_b[:, 0]), np.dot(matrix_a[1, :], matrix_b[:, 1])]])\n",
    "\n",
    "print matrix_e\n",
    "print '-' * 8\n",
    "print matrix_f\n",
    "print '-' * 8\n",
    "print matrix_g"
   ]
  },
  {
   "cell_type": "markdown",
   "metadata": {},
   "source": [
    "# Scalar and Matrix\n",
    "\n",
    "$\n",
    "\\begin{align}\n",
    "s \\times m = s \\begin{pmatrix} a && b \\\\ c && d\\end{pmatrix} = \\begin{pmatrix} s \\times a && s \\times b \\\\ s \\times c && s \\times d\\end{pmatrix}\n",
    "\\end{align}\n",
    "$"
   ]
  },
  {
   "cell_type": "code",
   "execution_count": null,
   "metadata": {},
   "outputs": [],
   "source": [
    "matrix_j = 10 * matrix_a\n",
    "\n",
    "print matrix_a\n",
    "print '-' * 8\n",
    "print matrix_j"
   ]
  },
  {
   "cell_type": "markdown",
   "metadata": {},
   "source": [
    "# Numpy Ops\n",
    "\n",
    "$\n",
    "\\begin{align}\n",
    "op(m) = op(\\begin{pmatrix} a && b \\\\ c && d \\end{pmatrix}) = \\begin{pmatrix} op(a) && op(b) \\\\ op(c) && op(d) \\end{pmatrix}\n",
    "\\end{align}\n",
    "$"
   ]
  },
  {
   "cell_type": "code",
   "execution_count": null,
   "metadata": {},
   "outputs": [],
   "source": [
    "matrix_h = np.array([\n",
    "    [matrix_a[0, 0] ** 2, matrix_a[0, 1] ** 2],\n",
    "    [matrix_a[1, 0] ** 2, matrix_a[1, 1] ** 2]])\n",
    "\n",
    "\n",
    "matrix_i = np.square(matrix_a)\n",
    "\n",
    "print matrix_h\n",
    "print '-' * 8\n",
    "print matrix_i"
   ]
  },
  {
   "cell_type": "code",
   "execution_count": null,
   "metadata": {},
   "outputs": [],
   "source": [
    "print np.abs(matrix_a)\n",
    "print np.log(matrix_a)\n",
    "print np.tanh(matrix_a)"
   ]
  },
  {
   "cell_type": "markdown",
   "metadata": {},
   "source": [
    "# Tensor Axis and Reduce Op\n",
    "\n",
    "- axis 0 : i-th row\n",
    "- axis 1 : j-th column\n",
    "- etc.\n",
    "\n",
    "# np.sum on Axis 0\n",
    "\n",
    "$\n",
    "\\begin{align}\n",
    "np.sum(m, axis=0) = np.sum(\\begin{pmatrix}a && b \\\\ c && d \\end{pmatrix}, axis=0) = \\begin{pmatrix}a + c && b + d \\end{pmatrix}\n",
    "\\end{align}\n",
    "$\n",
    "\n",
    "# np.sum on Axis 1\n",
    "\n",
    "$\n",
    "\\begin{align}\n",
    "np.sum(m, axis=1) = np.sum(\\begin{pmatrix}a && b \\\\ c && d \\end{pmatrix}, axis=1) = \\begin{pmatrix}a + b && c + d \\end{pmatrix}\n",
    "\\end{align}\n",
    "$"
   ]
  },
  {
   "cell_type": "code",
   "execution_count": null,
   "metadata": {},
   "outputs": [],
   "source": [
    "print matrix_a\n",
    "print '-' * 8\n",
    "print np.sum(matrix_a, axis=0)\n",
    "print '-' * 8\n",
    "print np.sum(matrix_a, axis=1)\n",
    "print '-' * 8\n",
    "print np.sum(matrix_a)"
   ]
  },
  {
   "cell_type": "code",
   "execution_count": null,
   "metadata": {},
   "outputs": [],
   "source": [
    "print matrix_a\n",
    "print '-' * 8\n",
    "print np.mean(matrix_a, axis=0)\n",
    "print '-' * 8\n",
    "print np.mean(matrix_a, axis=1)\n",
    "print '-' * 8\n",
    "print np.mean(matrix_a)"
   ]
  },
  {
   "cell_type": "markdown",
   "metadata": {},
   "source": [
    "# Dimention, Rank and Shape\n",
    "\n",
    "## Dimention\n",
    "\n",
    "* $\\begin{bmatrix}a, b\\end{bmatrix}$ is a 2d vector.\n",
    "* $\\begin{bmatrix}a, b, c\\end{bmatrix}$ is a 3d vector.\n",
    "* $\\begin{bmatrix}v_0, ..., v_{n-1}\\end{bmatrix}$ is a nd vector.\n",
    "\n",
    "## Rank\n",
    "\n",
    "* a scalar is rank 0, shape is [].\n",
    "* $\\begin{bmatrix}a, b\\end{bmatrix}$ is rank 1, shape is [2].\n",
    "* $\\begin{pmatrix}a && b \\\\ c && c \\end{pmatrix}$ is rank 2, shape is [2, 2].\n",
    "* a RGB image is rank 3 (width, height, channel), shape is [height, width, depth]"
   ]
  },
  {
   "cell_type": "code",
   "execution_count": null,
   "metadata": {},
   "outputs": [],
   "source": [
    "print 'vector_a: {}'.format(vector_a)\n",
    "print 'vector_a.shape: {}'.format(vector_a.shape)"
   ]
  },
  {
   "cell_type": "code",
   "execution_count": null,
   "metadata": {},
   "outputs": [],
   "source": [
    "print 'matrix_a:'\n",
    "print matrix_a\n",
    "print '-' * 8\n",
    "print 'matrix_a.shape'\n",
    "print matrix_a.shape"
   ]
  },
  {
   "cell_type": "code",
   "execution_count": null,
   "metadata": {},
   "outputs": [],
   "source": [
    "ones = np.ones((2, 3))\n",
    "\n",
    "print ones\n",
    "print ones.shape"
   ]
  },
  {
   "cell_type": "markdown",
   "metadata": {},
   "source": [
    "# Reshape Tensors\n",
    "\n",
    "consider a 2 x 2 RGB image:\n",
    "\n",
    "$\n",
    "\\begin{align}\n",
    "image =\n",
    "\\begin{bmatrix}\n",
    "\\begin{bmatrix}\n",
    "\\begin{bmatrix}\\begin{bmatrix} pix_{00r}, pix_{00g}, pix_{00b}\\end{bmatrix}\\end{bmatrix},\n",
    "\\begin{bmatrix}\\begin{bmatrix} pix_{01r}, pix_{01g}, pix_{01b}\\end{bmatrix}\\end{bmatrix}\n",
    "\\end{bmatrix},\n",
    "\\begin{bmatrix}\n",
    "\\begin{bmatrix}\\begin{bmatrix} pix_{10r}, pix_{10g}, pix_{10b}\\end{bmatrix}\\end{bmatrix},\n",
    "\\begin{bmatrix}\\begin{bmatrix} pix_{11r}, pix_{11g}, pix_{11b}\\end{bmatrix}\\end{bmatrix}\n",
    "\\end{bmatrix}\n",
    "\\end{bmatrix}\n",
    "\\end{align}\n",
    "$\n",
    "\n",
    "$\n",
    "\\begin{align}\n",
    "image = \\begin{pmatrix}pix_{00} && pix_{01} \\\\ pix_{10} && pix_{11}\\end{pmatrix}\n",
    "\\end{align}\n",
    "$\n",
    "\n",
    "$\n",
    "\\begin{align}\n",
    "flatten(image) = \\begin{bmatrix}pix_{00r}, pix_{00g}, pix_{00b}, pix_{01r}, pix_{01g}, pix_{01b}, pix_{10r}, pix_{10g}, pix_{10b}, pix_{11r}, pix_{11g}, pix_{11b}\\end{bmatrix}\n",
    "\\end{align}\n",
    "$"
   ]
  },
  {
   "cell_type": "code",
   "execution_count": null,
   "metadata": {},
   "outputs": [],
   "source": [
    "matrix_s = np.arange(8)\n",
    "\n",
    "print matrix_s"
   ]
  },
  {
   "cell_type": "code",
   "execution_count": null,
   "metadata": {},
   "outputs": [],
   "source": [
    "matrix_t = matrix_s.reshape(2, 4)\n",
    "\n",
    "print matrix_s\n",
    "print '-' * 8\n",
    "print matrix_t"
   ]
  },
  {
   "cell_type": "code",
   "execution_count": null,
   "metadata": {},
   "outputs": [],
   "source": [
    "print matrix_s.reshape(2, 2, 2)"
   ]
  },
  {
   "cell_type": "code",
   "execution_count": null,
   "metadata": {},
   "outputs": [],
   "source": [
    "image_a = mpimg.imread('./datasets/sample.png')\n",
    "\n",
    "# NOTE: image_a is a image, height=840, width=660, depth=4\n",
    "#       remove the bottom row to make its` height even.\n",
    "image_a = image_a[:-1, :, :]\n",
    "\n",
    "# NOTE: now image_a is a image, height=840, width=660, depth=4 (r/g/b/a)\n",
    "print image_a.shape\n",
    "\n",
    "plt.imshow(image_a)"
   ]
  },
  {
   "cell_type": "markdown",
   "metadata": {},
   "source": [
    "# Think before Running the Next Cell\n",
    "\n",
    "`height, width, depth = image_a.shape`\n",
    "\n",
    "what is the result if we reshape image_a to (height / 2, -1, depth)?\n",
    "\n",
    "## -1 D\n",
    "\n",
    "if shape of a tensor is $(d_1, d_2, \\cdots , d_n)$ and we want to reshape it into $(e_1, e_2, \\cdots , e_k, -1, e_{k+2}, \\cdots, e_m)$, it means:\n",
    "\n",
    "$\n",
    "\\begin{align}\n",
    "d_1 \\times d_2 \\times \\cdots \\times d_n &= e_1 \\times e_2 \\times \\cdots \\times e_k \\times e_{k+1} (-1) \\times e_{k+2} \\times \\cdots \\times e_m \\\\\n",
    "e_{k+1} &= \\frac{d_1 \\times d_2 \\times \\cdots \\times d_n}{e_1 \\times e_2 \\times \\cdots \\times e_k \\times e_{k+2} \\times \\cdots \\times e_m}\n",
    "\\end{align}\n",
    "$"
   ]
  },
  {
   "cell_type": "code",
   "execution_count": null,
   "metadata": {},
   "outputs": [],
   "source": [
    "height, width, depth = image_a.shape\n",
    "\n",
    "plt.clf()\n",
    "plt.imshow(image_a.reshape(height / 2, -1, depth))"
   ]
  },
  {
   "cell_type": "markdown",
   "metadata": {},
   "source": [
    "# Slice\n",
    "\n",
    "Show different channels of this image"
   ]
  },
  {
   "cell_type": "code",
   "execution_count": null,
   "metadata": {},
   "outputs": [],
   "source": [
    "plt.clf()\n",
    "\n",
    "for channel in range(4):\n",
    "    plt.subplot(1, 4, channel + 1)\n",
    "    plt.imshow(image_a[:, :, channel], cmap='gray')\n"
   ]
  },
  {
   "cell_type": "markdown",
   "metadata": {},
   "source": [
    "# Show Part of the Image\n",
    "\n",
    "Change the todo part"
   ]
  },
  {
   "cell_type": "code",
   "execution_count": null,
   "metadata": {},
   "outputs": [],
   "source": [
    "zombies = [\n",
    "    # NOTE: RGBA zombie\n",
    "    image_a[:, :, ::1],\n",
    "    # TODO: ABGR zombie\n",
    "    image_a[:, :, :],\n",
    "    # NOTE: zombie head\n",
    "    image_a[:420, :, :],\n",
    "    # TODO: zombie foot\n",
    "    image_a[:, :, :],\n",
    "    # NOTE: left hand zombie\n",
    "    image_a[:, 330:, :],\n",
    "    # TODO: right hand zombie\n",
    "    image_a[:, :, :],\n",
    "    # NOTE: thin zombie\n",
    "    image_a[:, ::2, :],\n",
    "    # TODO: short zombie\n",
    "    image_a[:, :, :],\n",
    "    # TODO: inverted zombie\n",
    "    image_a[::-1, :, :],\n",
    "    # TODO: flipped zombie\n",
    "    image_a[:, :, :],\n",
    "]\n",
    "\n",
    "num_zombies = len(zombies)\n",
    "\n",
    "plt.clf()\n",
    "plt.figure(figsize=(50, 20), dpi=20)\n",
    "\n",
    "for i, m in enumerate(zombies):\n",
    "    plt.subplot(2, num_zombies / 2, 1 + (i % 2) * (num_zombies / 2) + (i / 2))\n",
    "    plt.imshow(m)"
   ]
  },
  {
   "cell_type": "markdown",
   "metadata": {},
   "source": [
    "# Explore the Dataset"
   ]
  },
  {
   "cell_type": "code",
   "execution_count": null,
   "metadata": {},
   "outputs": [],
   "source": [
    "eigens = np.load('./datasets/v0_eigens.npz')\n",
    "\n",
    "print eigens.files\n",
    "print eigens['train_eigens'].shape\n",
    "print eigens['issue_eigens'].shape"
   ]
  },
  {
   "cell_type": "code",
   "execution_count": null,
   "metadata": {},
   "outputs": [],
   "source": [
    "print np.sum(eigens['train_eigens'][:, -28:])\n",
    "print np.sum(eigens['issue_eigens'][:, -28:])"
   ]
  },
  {
   "cell_type": "code",
   "execution_count": null,
   "metadata": {},
   "outputs": [],
   "source": [
    "train_user_0_eigens = eigens['train_eigens'][3, :-28]\n",
    "train_user_0_labels = eigens['train_eigens'][3, -28:]\n",
    "\n",
    "print train_user_0_eigens.shape\n",
    "print train_user_0_labels.shape\n",
    "\n",
    "train_user_0_eigens = train_user_0_eigens.reshape(-1, 28).T\n",
    "train_user_0_labels = train_user_0_labels.reshape(-1, 28).T\n",
    "\n",
    "print train_user_0_eigens.shape\n",
    "print train_user_0_labels.shape"
   ]
  },
  {
   "cell_type": "code",
   "execution_count": null,
   "metadata": {},
   "outputs": [],
   "source": [
    "gs = matplotlib.gridspec.GridSpec(1, 2, width_ratios=[32, 1])\n",
    "\n",
    "plt.clf()\n",
    "plt.subplot(gs[0])\n",
    "plt.imshow(train_user_0_eigens, cmap='gray')\n",
    "plt.subplot(gs[1])\n",
    "plt.imshow(train_user_0_labels, cmap='gray')\n"
   ]
  }
 ],
 "metadata": {
  "kernelspec": {
   "display_name": "Python 2",
   "language": "python",
   "name": "python2"
  },
  "language_info": {
   "codemirror_mode": {
    "name": "ipython",
    "version": 2
   },
   "file_extension": ".py",
   "mimetype": "text/x-python",
   "name": "python",
   "nbconvert_exporter": "python",
   "pygments_lexer": "ipython2",
   "version": "2.7.13"
  }
 },
 "nbformat": 4,
 "nbformat_minor": 2
}
