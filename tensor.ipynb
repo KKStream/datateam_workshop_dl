{
 "cells": [
  {
   "cell_type": "code",
   "execution_count": null,
   "metadata": {},
   "outputs": [],
   "source": [
    "import numpy as np\n",
    "import matplotlib\n",
    "import matplotlib.pyplot as plt\n",
    "import matplotlib.image as mpimg\n",
    "\n",
    "\n",
    "%matplotlib inline"
   ]
  },
  {
   "cell_type": "code",
   "execution_count": null,
   "metadata": {},
   "outputs": [],
   "source": [
    "vector_a = np.array([1, 2, 3], dtype=np.int)\n",
    "vector_b = np.array([2, 2, 2], dtype=np.int)\n",
    "\n",
    "vector_a, vector_b"
   ]
  },
  {
   "cell_type": "code",
   "execution_count": null,
   "metadata": {},
   "outputs": [],
   "source": [
    "vector_c = vector_a * vector_b\n",
    "vector_d = np.array([vector_a[0] * vector_b[0], vector_a[1] * vector_b[1], vector_a[2] * vector_b[2]])\n",
    "\n",
    "vector_c, vector_d"
   ]
  },
  {
   "cell_type": "code",
   "execution_count": null,
   "metadata": {},
   "outputs": [],
   "source": [
    "scalar_e = np.dot(vector_a, vector_b)\n",
    "scalar_f = vector_a[0] * vector_b[0] + vector_a[1] * vector_b[1] + vector_a[2] * vector_b[2]\n",
    "\n",
    "scalar_e, scalar_f"
   ]
  },
  {
   "cell_type": "code",
   "execution_count": null,
   "metadata": {},
   "outputs": [],
   "source": [
    "vector_e = 10 * vector_a\n",
    "\n",
    "vector_a, vector_e"
   ]
  },
  {
   "cell_type": "code",
   "execution_count": null,
   "metadata": {},
   "outputs": [],
   "source": [
    "matrix_a = np.array([[1, 2], [3, 4]])\n",
    "matrix_b = np.array([[1, 3], [2, 4]])\n",
    "\n",
    "print matrix_a\n",
    "print '-' * 8\n",
    "print matrix_b"
   ]
  },
  {
   "cell_type": "code",
   "execution_count": null,
   "metadata": {},
   "outputs": [],
   "source": [
    "matrix_c = matrix_a + matrix_b\n",
    "matrix_d = np.array([\n",
    "    [matrix_a[0, 0] + matrix_b[0, 0], matrix_a[0, 1] + matrix_b[0, 1]],\n",
    "    [matrix_a[1, 0] + matrix_b[1, 0], matrix_a[1, 1] + matrix_b[1, 1]]])\n",
    "\n",
    "print matrix_c\n",
    "print '-' * 8\n",
    "print matrix_d"
   ]
  },
  {
   "cell_type": "code",
   "execution_count": null,
   "metadata": {},
   "outputs": [],
   "source": [
    "matrix_e = np.dot(matrix_a, matrix_b)\n",
    "matrix_f = np.array([\n",
    "    [matrix_a[0, 0] * matrix_b[0, 0] + matrix_a[0, 1] * matrix_b[1, 0],\n",
    "     matrix_a[0, 0] * matrix_b[0, 1] + matrix_a[0, 1] * matrix_b[1, 1]],\n",
    "    [matrix_a[1, 0] * matrix_b[0, 0] + matrix_a[1, 1] * matrix_b[1, 0],\n",
    "     matrix_a[1, 0] * matrix_b[0, 1] + matrix_a[1, 1] * matrix_b[1, 1]]])\n",
    "matrix_g = np.array([\n",
    "    [np.dot(matrix_a[0, :], matrix_b[:, 0]), np.dot(matrix_a[0, :], matrix_b[:, 1])],\n",
    "    [np.dot(matrix_a[1, :], matrix_b[:, 0]), np.dot(matrix_a[1, :], matrix_b[:, 1])]])\n",
    "\n",
    "print matrix_e\n",
    "print '-' * 8\n",
    "print matrix_f\n",
    "print '-' * 8\n",
    "print matrix_g"
   ]
  },
  {
   "cell_type": "code",
   "execution_count": null,
   "metadata": {},
   "outputs": [],
   "source": [
    "matrix_h = np.array([\n",
    "    [matrix_a[0, 0] ** 2, matrix_a[0, 1] ** 2],\n",
    "    [matrix_a[1, 0] ** 2, matrix_a[1, 1] ** 2]])\n",
    "\n",
    "\n",
    "matrix_i = np.square(matrix_a)\n",
    "\n",
    "print matrix_h\n",
    "print '-' * 8\n",
    "print matrix_i"
   ]
  },
  {
   "cell_type": "code",
   "execution_count": null,
   "metadata": {},
   "outputs": [],
   "source": [
    "matrix_j = 10 * matrix_a\n",
    "\n",
    "print matrix_a\n",
    "print '-' * 8\n",
    "print matrix_j"
   ]
  },
  {
   "cell_type": "code",
   "execution_count": null,
   "metadata": {},
   "outputs": [],
   "source": [
    "print np.abs(matrix_a)\n",
    "print np.log(matrix_a)\n",
    "print np.tanh(matrix_a)"
   ]
  },
  {
   "cell_type": "code",
   "execution_count": null,
   "metadata": {},
   "outputs": [],
   "source": [
    "print matrix_a\n",
    "print '-' * 8\n",
    "print np.sum(matrix_a, axis=0)\n",
    "print '-' * 8\n",
    "print np.sum(matrix_a, axis=1)\n",
    "print '-' * 8\n",
    "print np.sum(matrix_a)"
   ]
  },
  {
   "cell_type": "code",
   "execution_count": null,
   "metadata": {},
   "outputs": [],
   "source": [
    "print matrix_a\n",
    "print '-' * 8\n",
    "print np.mean(matrix_a, axis=0)\n",
    "print '-' * 8\n",
    "print np.mean(matrix_a, axis=1)\n",
    "print '-' * 8\n",
    "print np.mean(matrix_a)"
   ]
  },
  {
   "cell_type": "code",
   "execution_count": null,
   "metadata": {},
   "outputs": [],
   "source": [
    "print 'vector_a: {}'.format(vector_a)\n",
    "print 'vector_a.shape: {}'.format(vector_a.shape)"
   ]
  },
  {
   "cell_type": "code",
   "execution_count": null,
   "metadata": {},
   "outputs": [],
   "source": [
    "print 'matrix_a:'\n",
    "print matrix_a\n",
    "print '-' * 8\n",
    "print 'matrix_a.shape'\n",
    "print matrix_a.shape"
   ]
  },
  {
   "cell_type": "code",
   "execution_count": null,
   "metadata": {},
   "outputs": [],
   "source": [
    "ones = np.ones((2, 3))\n",
    "\n",
    "print ones\n",
    "print ones.shape"
   ]
  },
  {
   "cell_type": "code",
   "execution_count": null,
   "metadata": {},
   "outputs": [],
   "source": [
    "matrix_s = np.arange(8)\n",
    "\n",
    "print matrix_s"
   ]
  },
  {
   "cell_type": "code",
   "execution_count": null,
   "metadata": {},
   "outputs": [],
   "source": [
    "matrix_t = matrix_s.reshape(2, 4)\n",
    "\n",
    "print matrix_s\n",
    "print '-' * 8\n",
    "print matrix_t"
   ]
  },
  {
   "cell_type": "code",
   "execution_count": null,
   "metadata": {},
   "outputs": [],
   "source": [
    "print matrix_s.reshape(2, 2, 2)"
   ]
  },
  {
   "cell_type": "code",
   "execution_count": null,
   "metadata": {},
   "outputs": [],
   "source": [
    "image_a = mpimg.imread('./datasets/sample.png')\n",
    "\n",
    "print image_a.shape\n",
    "\n",
    "plt.imshow(image_a)"
   ]
  },
  {
   "cell_type": "code",
   "execution_count": null,
   "metadata": {},
   "outputs": [],
   "source": [
    "plt.clf()\n",
    "plt.subplot(1, 4, 1)\n",
    "plt.imshow(image_a[:, :, 0], cmap='gray')\n",
    "plt.subplot(1, 4, 2)\n",
    "plt.imshow(image_a[:, :, 1], cmap='gray')\n",
    "plt.subplot(1, 4, 3)\n",
    "plt.imshow(image_a[:, :, 2], cmap='gray')\n",
    "plt.subplot(1, 4, 4)\n",
    "plt.imshow(image_a[:, :, 3], cmap='gray')"
   ]
  },
  {
   "cell_type": "code",
   "execution_count": null,
   "metadata": {},
   "outputs": [],
   "source": [
    "plt.clf()\n",
    "plt.imshow(image_a[:400, :, :])"
   ]
  },
  {
   "cell_type": "code",
   "execution_count": null,
   "metadata": {},
   "outputs": [],
   "source": [
    "plt.clf()\n",
    "plt.subplot(1, 2, 1)\n",
    "plt.imshow(image_a)\n",
    "plt.subplot(1, 2, 2)\n",
    "plt.imshow(image_a[:, :, :3])"
   ]
  },
  {
   "cell_type": "code",
   "execution_count": null,
   "metadata": {},
   "outputs": [],
   "source": [
    "image_b = image_a[:840, :, :]\n",
    "\n",
    "h, w, c = image_b.shape\n",
    "\n",
    "plt.clf()\n",
    "plt.subplot(1, 3, 1)\n",
    "plt.imshow(image_b)\n",
    "plt.subplot(1, 3, 2)\n",
    "plt.imshow(image_b.reshape(-1, w * 2, c))"
   ]
  },
  {
   "cell_type": "code",
   "execution_count": null,
   "metadata": {},
   "outputs": [],
   "source": [
    "eigens = np.load('./datasets/v0_eigens.npz')\n",
    "\n",
    "print eigens.files\n",
    "print eigens['train_eigens'].shape\n",
    "print eigens['issue_eigens'].shape"
   ]
  },
  {
   "cell_type": "code",
   "execution_count": null,
   "metadata": {},
   "outputs": [],
   "source": [
    "print np.sum(eigens['train_eigens'][:, -28:])\n",
    "print np.sum(eigens['issue_eigens'][:, -28:])"
   ]
  },
  {
   "cell_type": "code",
   "execution_count": null,
   "metadata": {},
   "outputs": [],
   "source": [
    "train_user_0_eigens = eigens['train_eigens'][3, :-28]\n",
    "train_user_0_labels = eigens['train_eigens'][3, -28:]\n",
    "\n",
    "print train_user_0_eigens.shape\n",
    "print train_user_0_labels.shape\n",
    "\n",
    "train_user_0_eigens = train_user_0_eigens.reshape(-1, 28).T\n",
    "train_user_0_labels = train_user_0_labels.reshape(-1, 28).T\n",
    "\n",
    "print train_user_0_eigens.shape\n",
    "print train_user_0_labels.shape"
   ]
  },
  {
   "cell_type": "code",
   "execution_count": null,
   "metadata": {},
   "outputs": [],
   "source": [
    "gs = matplotlib.gridspec.GridSpec(1, 2, width_ratios=[32, 1])\n",
    "\n",
    "plt.clf()\n",
    "plt.subplot(gs[0])\n",
    "plt.imshow(train_user_0_eigens, cmap='gray')\n",
    "plt.subplot(gs[1])\n",
    "plt.imshow(train_user_0_labels, cmap='gray')\n"
   ]
  },
  {
   "cell_type": "code",
   "execution_count": null,
   "metadata": {},
   "outputs": [],
   "source": []
  }
 ],
 "metadata": {
  "kernelspec": {
   "display_name": "Python 2",
   "language": "python",
   "name": "python2"
  },
  "language_info": {
   "codemirror_mode": {
    "name": "ipython",
    "version": 2
   },
   "file_extension": ".py",
   "mimetype": "text/x-python",
   "name": "python",
   "nbconvert_exporter": "python",
   "pygments_lexer": "ipython2",
   "version": "2.7.13"
  }
 },
 "nbformat": 4,
 "nbformat_minor": 2
}
