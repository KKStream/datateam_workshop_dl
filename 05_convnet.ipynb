{
 "cells": [
  {
   "cell_type": "code",
   "execution_count": null,
   "metadata": {},
   "outputs": [],
   "source": [
    "import matplotlib\n",
    "import matplotlib.pyplot as plt\n",
    "import numpy as np\n",
    "import util\n",
    "\n",
    "from keras.models import Sequential\n",
    "from keras.layers import Conv2D, Dense, Flatten"
   ]
  },
  {
   "cell_type": "code",
   "execution_count": null,
   "metadata": {},
   "outputs": [],
   "source": [
    "dataset = np.load('./datasets/v0_eigens.npz')\n",
    "\n",
    "train_data_size = dataset['train_eigens'].shape[0]\n",
    "valid_data_size = train_data_size / 5\n",
    "train_data_size = train_data_size - valid_data_size\n",
    "\n",
    "indices = np.arange(train_data_size + valid_data_size)\n",
    "\n",
    "train_data = dataset['train_eigens'][indices[:train_data_size]]\n",
    "valid_data = dataset['train_eigens'][indices[train_data_size:]]\n",
    "\n",
    "train_eigens = train_data[:, :-28].reshape(-1, 32, 28, 1)\n",
    "train_labels = train_data[:, -28:]\n",
    "valid_eigens = valid_data[:, :-28].reshape(-1, 32, 28, 1)\n",
    "valid_labels = valid_data[:, -28:]\n",
    "issue_eigens = dataset['issue_eigens'][:, :-28].reshape(-1, 32, 28, 1)\n",
    "\n",
    "print 'train_eigens.shape = {}'.format(train_eigens.shape)\n",
    "print 'train_labels.shape = {}'.format(train_labels.shape)\n",
    "print 'valid_eigens.shape = {}'.format(valid_eigens.shape)\n",
    "print 'valid_labels.shape = {}'.format(valid_labels.shape)"
   ]
  },
  {
   "cell_type": "code",
   "execution_count": null,
   "metadata": {},
   "outputs": [],
   "source": [
    "gs = matplotlib.gridspec.GridSpec(4, 5, height_ratios=[32, 1, 32, 1])\n",
    "\n",
    "plt.clf()\n",
    "plt.figure(figsize=(50, 20), dpi=40)\n",
    "\n",
    "for i in range(10):\n",
    "    plt.subplot(gs[i / 5 * 10 + i % 5])\n",
    "    plt.imshow(train_eigens[i, :, :, 0], aspect='auto', cmap='gray')\n",
    "\n",
    "    plt.subplot(gs[i / 5 * 10 + i % 5 + 5])\n",
    "    plt.imshow(train_labels[i:i+1, :], aspect='auto', cmap='gray')"
   ]
  },
  {
   "cell_type": "code",
   "execution_count": null,
   "metadata": {},
   "outputs": [],
   "source": [
    "def build_model():\n",
    "    \"\"\"\n",
    "    \"\"\"\n",
    "    model = Sequential()\n",
    "\n",
    "    # NOTE: shape of mini-batch is (N, 32, 28, 1)\n",
    "    model.add(Conv2D(4, (3, 3), activation='relu', input_shape=(32, 28, 1)))\n",
    "\n",
    "    # TODO: change shape of the filter and evaluate the performance\n",
    "\n",
    "    # TODO: change the output (current value is 4) depth and evaluate the performance\n",
    "\n",
    "    # TODO: change the activation function and evaluate the performance\n",
    "    \n",
    "    # TODO: go deeper and evaluate the performance\n",
    "\n",
    "    model.add(Conv2D(4, (3, 3), activation='relu'))\n",
    "\n",
    "    model.add(Flatten())\n",
    "\n",
    "    # TODO: go deeper and evaluate the performance\n",
    "    \n",
    "    model.add(Dense(28, activation='sigmoid'))\n",
    "    \n",
    "    model.compile(optimizer='adam', loss='binary_crossentropy')\n",
    "    \n",
    "    return model"
   ]
  },
  {
   "cell_type": "code",
   "execution_count": null,
   "metadata": {},
   "outputs": [],
   "source": [
    "model = build_model()\n",
    "\n",
    "# TODO: change batch_size. how does this value affect the training process?\n",
    "# TODO: change epochs. how does this value affect the training process?\n",
    "\n",
    "model.fit(\n",
    "    x=train_eigens,\n",
    "    y=train_labels,\n",
    "    batch_size=128,\n",
    "    epochs=5,\n",
    "    verbose=1,\n",
    "    validation_data=(valid_eigens, valid_labels),\n",
    "    shuffle=True)"
   ]
  },
  {
   "cell_type": "markdown",
   "metadata": {},
   "source": [
    "known best: 0.880813190441"
   ]
  },
  {
   "cell_type": "code",
   "execution_count": null,
   "metadata": {},
   "outputs": [],
   "source": [
    "valid_guesss = model.predict(valid_eigens)\n",
    "\n",
    "auc = util.auc(valid_guesss, valid_labels)\n",
    "\n",
    "print auc"
   ]
  },
  {
   "cell_type": "code",
   "execution_count": null,
   "metadata": {},
   "outputs": [],
   "source": [
    "# TODO: if you are satisfied with the result, dump the predictions of testing set and upload to kaggle\n",
    "\n",
    "issue_guesss = model.predict(issue_eigens)\n",
    "\n",
    "util.write_result('cnn.csv', issue_guesss)"
   ]
  },
  {
   "cell_type": "code",
   "execution_count": null,
   "metadata": {},
   "outputs": [],
   "source": []
  }
 ],
 "metadata": {
  "kernelspec": {
   "display_name": "Python 2",
   "language": "python",
   "name": "python2"
  },
  "language_info": {
   "codemirror_mode": {
    "name": "ipython",
    "version": 2
   },
   "file_extension": ".py",
   "mimetype": "text/x-python",
   "name": "python",
   "nbconvert_exporter": "python",
   "pygments_lexer": "ipython2",
   "version": "2.7.13"
  }
 },
 "nbformat": 4,
 "nbformat_minor": 2
}
