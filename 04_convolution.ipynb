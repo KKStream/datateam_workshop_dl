{
 "cells": [
  {
   "cell_type": "code",
   "execution_count": null,
   "metadata": {},
   "outputs": [],
   "source": [
    "import keras.optimizers\n",
    "import scipy.signal\n",
    "import matplotlib.pyplot as plt\n",
    "import numpy as np\n",
    "\n",
    "from keras.datasets import fashion_mnist\n",
    "from keras.models import Sequential\n",
    "from keras.layers import Conv2D\n",
    "\n",
    "%matplotlib inline"
   ]
  },
  {
   "cell_type": "code",
   "execution_count": null,
   "metadata": {},
   "outputs": [],
   "source": [
    "(x_train, y_train), (x_test, y_test) = fashion_mnist.load_data()\n",
    "\n",
    "x_train = x_train.astype(np.float32)\n",
    "x_train = x_train / 255.0"
   ]
  },
  {
   "cell_type": "code",
   "execution_count": null,
   "metadata": {},
   "outputs": [],
   "source": [
    "plt.clf()\n",
    "plt.figure(figsize=(100, 20), dpi=20)\n",
    "\n",
    "for i in range(20):\n",
    "    plt.subplot(2, 10, i + 1)\n",
    "    plt.imshow(x_train[i], aspect='auto', cmap='gray', vmin=0.0, vmax=1.0)"
   ]
  },
  {
   "cell_type": "markdown",
   "metadata": {},
   "source": [
    "![](./assets/005_filter.gif)"
   ]
  },
  {
   "cell_type": "code",
   "execution_count": null,
   "metadata": {},
   "outputs": [],
   "source": [
    "sharp_filter = np.array([\n",
    "    [-0.01, -0.10, -0.01],\n",
    "    [-0.10, +1.00, -0.10],\n",
    "    [-0.01, -0.10, -0.01]])\n",
    "\n",
    "plt.clf()\n",
    "plt.imshow(sharp_filter, cmap='gray', vmin=-1.0, vmax=1.0)"
   ]
  },
  {
   "cell_type": "code",
   "execution_count": null,
   "metadata": {},
   "outputs": [],
   "source": [
    "y_train = x_train.copy()\n",
    "\n",
    "for i in range(y_train.shape[0]):\n",
    "    y_train[i] = scipy.signal.convolve2d(\n",
    "        x_train[i], sharp_filter, mode='same', boundary='fill', fillvalue=0.0)\n",
    "\n",
    "plt.clf()\n",
    "plt.subplot(1, 2, 1)\n",
    "plt.imshow(x_train[0], cmap='gray', vmin=0.0, vmax=1.0)\n",
    "plt.subplot(1, 2, 2)\n",
    "plt.imshow(y_train[0], cmap='gray', vmin=0.0, vmax=1.0)"
   ]
  },
  {
   "cell_type": "code",
   "execution_count": null,
   "metadata": {},
   "outputs": [],
   "source": [
    "def build_model():\n",
    "    \"\"\"\n",
    "    \"\"\"\n",
    "    model = Sequential()\n",
    "\n",
    "    model.add(Conv2D(1, (3, 3), padding='same', use_bias=False, input_shape=(28, 28, 1)))\n",
    "\n",
    "    adam = keras.optimizers.Adam(lr=0.001, decay=0.001)\n",
    "    \n",
    "    model.compile(optimizer=adam, loss='mean_squared_error')\n",
    "    \n",
    "    return model"
   ]
  },
  {
   "cell_type": "code",
   "execution_count": null,
   "metadata": {},
   "outputs": [],
   "source": [
    "x_train = x_train.reshape(-1, 28, 28, 1)\n",
    "y_train = y_train.reshape(-1, 28, 28, 1)\n",
    "\n",
    "model = build_model()\n",
    "\n",
    "initial_filter = model.layers[0].get_weights()[0].reshape(3, 3)\n",
    "\n",
    "plt.clf()\n",
    "plt.subplot(1, 2, 1)\n",
    "plt.imshow(sharp_filter, cmap='gray', vmin=-1.0, vmax=1.0)\n",
    "plt.subplot(1, 2, 2)\n",
    "plt.imshow(initial_filter, cmap='gray', vmin=-1.0, vmax=1.0)"
   ]
  },
  {
   "cell_type": "code",
   "execution_count": null,
   "metadata": {},
   "outputs": [],
   "source": [
    "model.fit(x=x_train, y=y_train, batch_size=128, epochs=40, verbose=2)"
   ]
  },
  {
   "cell_type": "code",
   "execution_count": null,
   "metadata": {},
   "outputs": [],
   "source": [
    "print sharp_filter\n",
    "print model.layers[0].get_weights()[0].reshape(3, 3)"
   ]
  },
  {
   "cell_type": "code",
   "execution_count": null,
   "metadata": {},
   "outputs": [],
   "source": [
    "learnt_filter = model.layers[0].get_weights()[0].reshape(3, 3)\n",
    "\n",
    "plt.clf()\n",
    "plt.subplot(1, 2, 1)\n",
    "plt.imshow(sharp_filter, cmap='gray', vmin=-1.0, vmax=1.0)\n",
    "plt.subplot(1, 2, 2)\n",
    "plt.imshow(learnt_filter, cmap='gray', vmin=-1.0, vmax=1.0)"
   ]
  },
  {
   "cell_type": "code",
   "execution_count": null,
   "metadata": {},
   "outputs": [],
   "source": []
  }
 ],
 "metadata": {
  "kernelspec": {
   "display_name": "Python 2",
   "language": "python",
   "name": "python2"
  },
  "language_info": {
   "codemirror_mode": {
    "name": "ipython",
    "version": 2
   },
   "file_extension": ".py",
   "mimetype": "text/x-python",
   "name": "python",
   "nbconvert_exporter": "python",
   "pygments_lexer": "ipython2",
   "version": "2.7.13"
  }
 },
 "nbformat": 4,
 "nbformat_minor": 2
}
